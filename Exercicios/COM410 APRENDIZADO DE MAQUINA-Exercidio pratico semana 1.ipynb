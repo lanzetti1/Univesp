{
  "nbformat": 4,
  "nbformat_minor": 0,
  "metadata": {
    "colab": {
      "provenance": [],
      "authorship_tag": "ABX9TyMqg376arhjaIIJ3EEUjFQT",
      "include_colab_link": true
    },
    "kernelspec": {
      "name": "python3",
      "display_name": "Python 3"
    },
    "language_info": {
      "name": "python"
    }
  },
  "cells": [
    {
      "cell_type": "markdown",
      "metadata": {
        "id": "view-in-github",
        "colab_type": "text"
      },
      "source": [
        "<a href=\"https://colab.research.google.com/github/lanzetti1/Univesp/blob/main/COM410%20APRENDIZADO%20DE%20MAQUINA-Exercidio%20pratico%20semana%201.ipynb\" target=\"_parent\"><img src=\"https://colab.research.google.com/assets/colab-badge.svg\" alt=\"Open In Colab\"/></a>"
      ]
    },
    {
      "cell_type": "markdown",
      "source": [
        "COM410 APRENDIZADO DE MAQUINA. Exercicio pratico da semana 1. Gabarito."
      ],
      "metadata": {
        "id": "wWpCv0A74Dbc"
      }
    },
    {
      "cell_type": "markdown",
      "source": [
        "O dataset deste exercício é baseado no dataset Car Evaluation, que está em:\n",
        "\n",
        "     https://archive.ics.uci.edu/ml/datasets/Car+Evaluation\n"
      ],
      "metadata": {
        "id": "d99XdDyX58_K"
      }
    },
    {
      "cell_type": "markdown",
      "source": [
        "1. Para este exercício, usamos as bibliotecas Pandas, Matplotlib e Scikit-Learn. Importe as bibliotecas."
      ],
      "metadata": {
        "id": "f7kHRTs_51Q9"
      }
    },
    {
      "cell_type": "code",
      "source": [
        "from google.colab import files\n",
        "\n",
        "import pandas as pd\n",
        "\n",
        "import matplotlib.pyplot as plt\n",
        "\n",
        "from sklearn import tree\n",
        "\n",
        "from sklearn.tree import DecisionTreeClassifier, plot_tree\n",
        "\n",
        "from sklearn.model_selection import train_test_split\n",
        "\n",
        "from sklearn.metrics import accuracy_score\n",
        "\n",
        "import warnings\n",
        "\n",
        "warnings.simplefilter('ignore')\n"
      ],
      "metadata": {
        "id": "-6ufpOga39ou"
      },
      "execution_count": null,
      "outputs": []
    },
    {
      "cell_type": "markdown",
      "source": [
        "2. Pegando os dados."
      ],
      "metadata": {
        "id": "i8UolMTg5y_Y"
      }
    },
    {
      "cell_type": "code",
      "source": [
        "url = 'https://raw.githubusercontent.com/higoramario/univesp-com410-aprendizado-de-maquinas/main/carros-avaliacao.csv'\n",
        "\n",
        "carros = pd.read_csv(url)\n",
        "\n",
        "carros.head()"
      ],
      "metadata": {
        "id": "hUIa0Mb532go"
      },
      "execution_count": null,
      "outputs": []
    },
    {
      "cell_type": "markdown",
      "source": [
        "3. Transformando os atributos em números para uso na Árvore de Decisão."
      ],
      "metadata": {
        "id": "FXW_ftBX5mFq"
      }
    },
    {
      "cell_type": "code",
      "source": [
        "carros['preco'] = carros['preco'].map({'muitoalto':3,'alto':2,'medio':1,'baixo':0})\n",
        "\n",
        "carros['manutencao'] = carros['manutencao'].map({'muitoalto':3,'alto':2,'medio':1,'baixo':0})\n",
        "\n",
        "carros['portas'] = carros['portas'].map({'2':2,'3':3,'4':4,'5mais':5})\n",
        "\n",
        "carros['pessoas'] = carros['pessoas'].map({'2':2,'4':4,'5mais':5})\n",
        "\n",
        "carros['bagageiro'] = carros['bagageiro'].map({'grande':2,'medio':1,'pequeno':0})\n",
        "\n",
        "carros['seguranca'] = carros['seguranca'].map({'alta':2,'media':1,'baixa':0})\n",
        "\n",
        "carros.head(10)"
      ],
      "metadata": {
        "id": "DI3hZn1E5J5J"
      },
      "execution_count": null,
      "outputs": []
    },
    {
      "cell_type": "markdown",
      "source": [
        "4. Separando atributos e classes para o treinamento e teste."
      ],
      "metadata": {
        "id": "I8Lx59kN5QKy"
      }
    },
    {
      "cell_type": "code",
      "source": [
        "atributos_nomes = ['preco','manutencao','portas','pessoas','bagageiro','seguranca']\n",
        "\n",
        "atributos = carros[atributos_nomes]\n",
        "\n",
        "classes = carros['aceitabilidade']"
      ],
      "metadata": {
        "id": "tNVb_9PW6O74"
      },
      "execution_count": null,
      "outputs": []
    },
    {
      "cell_type": "markdown",
      "source": [
        "5. Separando o conjunto de dados para treinamento e teste."
      ],
      "metadata": {
        "id": "xhjsoPpv6QpG"
      }
    },
    {
      "cell_type": "code",
      "source": [
        "atributos_treino, atributos_teste, classes_treino, classes_teste = train_test_split(atributos, classes, test_size=0.1, random_state=10)"
      ],
      "metadata": {
        "id": "yQ3EglzU6WIV"
      },
      "execution_count": null,
      "outputs": []
    },
    {
      "cell_type": "markdown",
      "source": [
        "6. Criando o modelo."
      ],
      "metadata": {
        "id": "Itrx6O6n6ZuI"
      }
    },
    {
      "cell_type": "code",
      "source": [
        "arvore = DecisionTreeClassifier()\n",
        "\n",
        "arvore = arvore.fit(atributos_treino,classes_treino)"
      ],
      "metadata": {
        "id": "mBuEBl3v6gfp"
      },
      "execution_count": null,
      "outputs": []
    },
    {
      "cell_type": "markdown",
      "source": [
        "7. Plotando a árvore de decisão em tamanho grande para conseguir visualizar em detalhes. No caderno Python, clique na figura para alternar entre visão ampliada e reduzida."
      ],
      "metadata": {
        "id": "Zfh52vOS6hfa"
      }
    },
    {
      "cell_type": "code",
      "source": [
        "plt.figure(figsize=(300,160))\n",
        "\n",
        "plot_tree(arvore, filled=True, rounded=True, feature_names=atributos_nomes)\n",
        "\n",
        "plt.show()"
      ],
      "metadata": {
        "id": "T3LPDngq6lei"
      },
      "execution_count": null,
      "outputs": []
    },
    {
      "cell_type": "markdown",
      "source": [
        "8. Testando o caso perfeito em que todos os valores são os melhores possíveis."
      ],
      "metadata": {
        "id": "eaElpbia6rIP"
      }
    },
    {
      "cell_type": "code",
      "source": [
        "print(arvore.predict([[0,0,5,5,2,2]]))\n",
        "\n",
        "['muitobom']"
      ],
      "metadata": {
        "id": "Lnrx7Sfi6vro"
      },
      "execution_count": null,
      "outputs": []
    },
    {
      "cell_type": "markdown",
      "source": [
        "9. Basta que a segurança seja baixa para que seja classificada como inaceitável."
      ],
      "metadata": {
        "id": "b894TkyE60Jl"
      }
    },
    {
      "cell_type": "code",
      "source": [
        "print(arvore.predict([[0,0,5,5,2,0]]))\n",
        "\n",
        "['inaceitavel']\n",
        "\n"
      ],
      "metadata": {
        "id": "KxLnc4dr646e"
      },
      "execution_count": null,
      "outputs": []
    },
    {
      "cell_type": "markdown",
      "source": [
        "10. Verificando a acurácia de classificação."
      ],
      "metadata": {
        "id": "izcfRSBG6_64"
      }
    },
    {
      "cell_type": "code",
      "source": [
        "classes_predicao = arvore.predict(atributos_teste)\n",
        "\n",
        "acuracia = accuracy_score(classes_teste,classes_predicao)\n",
        "\n",
        "print('Acurácia de classificação: {}'.format(round(acuracia,3)*100)+'%')\n",
        "\n",
        "Acurácia de classificação: 98.3%*\n",
        "\n",
        "* O valor de acurácia pode variar um pouco dependendo do modelo gerado."
      ],
      "metadata": {
        "id": "B7Cm06807LgP"
      },
      "execution_count": null,
      "outputs": []
    }
  ]
}
