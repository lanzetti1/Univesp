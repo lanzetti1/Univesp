{
 "cells": [
  {
   "cell_type": "markdown",
   "metadata": {},
   "source": [
    "O presente exercício é uma reprodução de uma tarefa do curso de ciência de dados da univesp"
   ]
  },
  {
   "cell_type": "markdown",
   "metadata": {},
   "source": [
    "# COM530 - Visão Computacional\n",
    "\n",
    "## Semana 5 - Segmentação\n",
    "## Videoaula 15 - Prática de Segmentação Semântica com CNN\n",
    "\n",
    "- Importando os pacotes e imagens\n",
    "- Analisando as imagens\n",
    "- Preparando os dados\n",
    "- Construindo uma rede convolucional Unet\n",
    "- Treinando a rede\n",
    "- Avaliando os resultados\n",
    "\n",
    "Observações: \n",
    "- Ativar a GPU (Menu [Runtime], opção [Change runtime type])\n",
    "- Sem GPU, a execução deste caderno pode levar mais de 40 minutos.\n"
   ]
  },
  {
   "cell_type": "markdown",
   "metadata": {},
   "source": [
    "#Importar os pacotes e carregar os dados.\n",
    "\n",
    "O conjunto de dados utilizado nesta aula foi construído a partir de imagens de Microscopia Eletrônica, as quais estão disponíveis em: https://www.epfl.ch/labs/cvlab/data/data-em/\n",
    "\n",
    "Essas imagens estão em alta-resolução e foram segmentadas em mitocôndrias e sinapses.\n",
    "\n",
    "A partir dessas imagens, foram geradas \"sub-imagens\" 256x256 a partir das regiões das imagens originais. Essas imagens 256x256 são as utilizadas nesta aula."
   ]
  },
  {
   "cell_type": "code",
   "execution_count": null,
   "metadata": {
    "vscode": {
     "languageId": "plaintext"
    }
   },
   "outputs": [],
   "source": []
  },
  {
   "cell_type": "code",
   "execution_count": null,
   "metadata": {},
   "outputs": [],
   "source": [
    "import os\n",
    "import zipfile\n",
    "import tensorflow as tf\n",
    "from tensorflow.keras.utils import normalize\n",
    "import cv2\n",
    "from PIL import Image\n",
    "import numpy as np\n",
    "from matplotlib import pyplot as plt\n",
    "from sklearn.preprocessing import MinMaxScaler\n",
    "from keras.optimizers import Adam\n",
    "import glob"
   ]
  },
  {
   "cell_type": "markdown",
   "metadata": {},
   "source": [
    "#Carregando as imagens\n",
    "\n",
    "O conjunto de dados utilizado nesta aula foi construído a partir de imagens de Microscopia Eletrônica, as quais estão disponíveis em: https://www.epfl.ch/labs/cvlab/data/data-em/\n",
    "\n",
    "Essas imagens estão em alta-resolução e foram segmentadas em mitocôndrias e sinapses.\n",
    "\n",
    "A partir dessas imagens, foram geradas \"sub-imagens\" 256x256 a partir das regiões das imagens originais. Essas imagens 256x256 são as utilizadas nesta aula."
   ]
  },
  {
   "cell_type": "code",
   "execution_count": null,
   "metadata": {},
   "outputs": [],
   "source": [
    "#!wget https://www.epfl.ch/labs/cvlab/data/data-em/\n",
    "\n",
    "!wget https://documents.epfl.ch/groups/c/cv/cvlab-unit/www/data/%20ElectronMicroscopy_Hippocampus/volumedata.tif"
   ]
  },
  {
   "cell_type": "markdown",
   "metadata": {},
   "source": [
    "Para ler arquivos .tif no Pandas (uma biblioteca popular para análise de dados em Python), você pode seguir algumas abordagens diferentes, dependendo das suas necessidades específicas. Vou apresentar três maneiras comuns de lidar com arquivos .tif em Python:\n",
    "\n",
    "Usando a biblioteca GDAL (Geospatial Data Abstraction Library):\n",
    "O GDAL é uma biblioteca poderosa para trabalhar com dados geoespaciais, incluindo arquivos .tif.\n",
    "Primeiro, você precisa instalar o GDAL no Python. Você pode fazer isso usando o Anaconda com o seguinte comando:\n",
    "conda install gdal\n",
    "Ou, se preferir, pode usar o pip:\n",
    "pip install gdal\n",
    "\n",
    "Em seguida, carregue o pacote gdal do módulo osgeo no seu console Python ou script:\n",
    "Python\n",
    "\n",
    "from osgeo import gdal\n",
    "Código gerado por IA. Examine e use com cuidado. Mais informações em perguntas frequentes.\n",
    "Para abrir um arquivo .tif no modo somente leitura e salvar os dados em uma variável, você pode fazer o seguinte:\n",
    "Python\n",
    "\n",
    "caminho_do_arquivo = 'caminho/do/arquivo.tif'\n",
    "raster = gdal.Open(caminho_do_arquivo, gdal.GA_ReadOnly)\n",
    "Código gerado por IA. Examine e use com cuidado. Mais informações em perguntas frequentes.\n",
    "Você também pode copiar a transformação geográfica para uma variável, que pode ser útil posteriormente:\n",
    "Python\n",
    "\n",
    "transformacao_geografica = raster.GetGeoTransform()\n",
    "Código gerado por IA. Examine e use com cuidado. Mais informações em perguntas frequentes.\n",
    "Usando a biblioteca georasters:\n",
    "A biblioteca georasters permite converter arquivos .tif em GeoPandas DataFrames ou Pandas DataFrames.\n",
    "Primeiro, instale a biblioteca com o seguinte comando:\n",
    "pip install georasters\n",
    "\n",
    "Em seguida, importe o módulo georasters e carregue o arquivo .tif:\n",
    "Python\n",
    "\n",
    "import georasters as gr\n",
    "import pandas as pd\n",
    "\n",
    "meu_raster = 'caminho/do/arquivo.tif'\n",
    "elevacao = gr.from_file(meu_raster)\n",
    "# Agora você pode usar 'elevacao' como um DataFrame\n",
    "Código gerado por IA. Examine e use com cuidado. Mais informações em perguntas frequentes.\n",
    "Usando a biblioteca tifffile:\n",
    "A biblioteca tifffile é útil para ler e escrever arquivos .tif em formato de matriz numpy.\n",
    "Primeiro, instale a biblioteca com o seguinte comando:\n",
    "pip install tifffile\n",
    "\n",
    "Para ler um arquivo .tif em um array numpy, faça o seguinte:\n",
    "Python\n",
    "\n",
    "from tifffile import imread\n",
    "\n",
    "caminho_do_arquivo = 'caminho/do/arquivo.tif'\n",
    "imagem = imread(caminho_do_arquivo)\n",
    "# Agora 'imagem' é um array numpy\n",
    "Código gerado por IA. Examine e use com cuidado. Mais informações em perguntas frequentes.\n",
    "Se você quiser salvar um array numpy como um arquivo .tif, use o seguinte:\n",
    "Python\n",
    "\n",
    "from tifffile import imwrite\n",
    "\n",
    "meu_array_numpy = ...  # Seu array numpy aqui\n",
    "imwrite('meu_arquivo.tif', meu_array_numpy, photometric='rgb')\n",
    "Código gerado por IA. Examine e use com cuidado. Mais informações em perguntas frequentes.\n",
    "Escolha a abordagem que melhor se adapta às suas necessidades e ao seu projeto! 🌟"
   ]
  },
  {
   "cell_type": "markdown",
   "metadata": {},
   "source": [
    "pip install pylibtiff"
   ]
  },
  {
   "cell_type": "markdown",
   "metadata": {},
   "source": [
    "PyLibTiff é um pacote que fornece:\n",
    "\n",
    "um wrapper para a biblioteca libtiff para Python usando ctypes.\n",
    "\n",
    "um módulo Python puro para ler e escrever arquivos TIFF e LSM. O As imagens são lidas como objetos para que seja possível abrir imagens que, de outra forma, não caberiam na memória RAM dos computadores. Ambos TIFF Faixas e blocos são suportados para armazenamento de dados de baixo nível.numpy.memmap\n",
    "\n",
    "Existem muitos pacotes Python como PIL, FreeImagePy que suportam leitura e gravação de arquivos TIFF. O projeto PyLibTiff foi iniciado para ter uma maneira eficiente e direta de ler e gravar arquivos TIFF usando a biblioteca libtiff sem a necessidade de instalar qualquer desnecessário pacotes ou bibliotecas. O módulo Python puro foi criado para leitura arquivos TIFF \"quebrados\", como arquivos LSM que em alguns lugares usam interpretação diferente das etiquetas TIFF do que a especificada no TIFF documento de especificação. A biblioteca libtiff simplesmente falharia na leitura tais arquivos. Além disso, o módulo Python puro é mais memória eficiente à medida que os arrays são retornados como mapas de memória. Suporte para arquivos compactados ainda não está implementado.\n",
    "\n",
    "tifffile.py por Christoph Gohlke é um excelente módulo para leitura de TIFF, bem como LSM, é tão rápido quanto libtiff.py usando numpy.\n",
    "\n",
    "Exemplo de uso (wrapper libtiff)\n",
    ">>> from libtiff import TIFF\n",
    ">>> # to open a tiff file for reading:\n",
    ">>> tif = TIFF.open('filename.tif', mode='r')\n",
    ">>> # to read an image in the currect TIFF directory and return it as numpy array:\n",
    ">>> image = tif.read_image()\n",
    ">>> # to read all images in a TIFF file:\n",
    ">>> for image in tif.iter_images(): # do stuff with image\n",
    ">>> # to open a tiff file for writing:\n",
    ">>> tif = TIFF.open('filename.tif', mode='w')\n",
    ">>> # to write a image to tiff file\n",
    ">>> tif.write_image(image)\n",
    "Exemplo de uso (módulo Python puro)\n",
    ">>> from libtiff import TIFFfile, TIFFimage\n",
    ">>> # to open a tiff file for reading\n",
    ">>> tif = TIFFfile('filename.tif')\n",
    ">>> # to return memmaps of images and sample names (eg channel names, SamplesPerPixel>=1)\n",
    ">>> samples, sample_names = tiff.get_samples()\n",
    ">>> # to create a tiff structure from image data\n",
    ">>> tiff = TIFFimage(data, description='')\n",
    ">>> # to write tiff structure to file\n",
    ">>> tiff.write_file('filename.tif', compression='none') # or 'lzw'\n",
    ">>> del tiff # flushes data to disk\n",
    "Exemplos de uso de script\n",
    "$ libtiff.info -i result_0.tif\n",
    "IFDEntry(tag=ImageWidth, value=512, count=1, offset=None)\n",
    "IFDEntry(tag=ImageLength, value=512, count=1, offset=None)\n",
    "IFDEntry(tag=BitsPerSample, value=32, count=1, offset=None)\n",
    "IFDEntry(tag=Compression, value=1, count=1, offset=None)\n",
    "IFDEntry(tag=PhotometricInterpretation, value=1, count=1, offset=None)\n",
    "IFDEntry(tag=StripOffsets, value=8, count=1, offset=None)\n",
    "IFDEntry(tag=Orientation, value=6, count=1, offset=None)\n",
    "IFDEntry(tag=StripByteCounts, value=1048576, count=1, offset=None)\n",
    "IFDEntry(tag=PlanarConfiguration, value=1, count=1, offset=None)\n",
    "IFDEntry(tag=SampleFormat, value=3, count=1, offset=None)\n",
    "Use --ifd to see the rest of 31 IFD entries\n",
    "data is contiguous: False\n",
    "memory usage is ok: True\n",
    "sample data shapes and names:\n",
    "\n",
    "width : 512\n",
    "length : 512\n",
    "samples_per_pixel : 1\n",
    "planar_config : 1\n",
    "bits_per_sample : 32\n",
    "strip_length : 1048576\n",
    "\n",
    "[('memmap', (32, 512, 512), dtype('float32'))] ['sample0']"
   ]
  },
  {
   "cell_type": "markdown",
   "metadata": {},
   "source": []
  }
 ],
 "metadata": {
  "language_info": {
   "name": "python"
  }
 },
 "nbformat": 4,
 "nbformat_minor": 2
}
