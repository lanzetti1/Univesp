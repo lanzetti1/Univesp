{
  "nbformat": 4,
  "nbformat_minor": 0,
  "metadata": {
    "colab": {
      "name": "Introdução a Ciência de Dados - COM350 - Turma 002 - semana 4 - Notebook - Videoaula10_KDD.ipynb.ipynb",
      "provenance": [],
      "collapsed_sections": [],
      "authorship_tag": "ABX9TyPGSaI0TWUHKzNgPnRD2g7x",
      "include_colab_link": true
    },
    "kernelspec": {
      "name": "python3",
      "display_name": "Python 3"
    },
    "language_info": {
      "name": "python"
    }
  },
  "cells": [
    {
      "cell_type": "markdown",
      "metadata": {
        "id": "view-in-github",
        "colab_type": "text"
      },
      "source": [
        "<a href=\"https://colab.research.google.com/github/lanzetti1/Univesp/blob/main/Introdu%C3%A7%C3%A3o_a_Ci%C3%AAncia_de_Dados_COM350_Turma_002_semana_4_Notebook_Videoaula10_KDD_ipynb.ipynb\" target=\"_parent\"><img src=\"https://colab.research.google.com/assets/colab-badge.svg\" alt=\"Open In Colab\"/></a>"
      ]
    },
    {
      "cell_type": "markdown",
      "metadata": {
        "id": "EQSIBr3YnP77"
      },
      "source": [
        ""
      ]
    }
  ]
}