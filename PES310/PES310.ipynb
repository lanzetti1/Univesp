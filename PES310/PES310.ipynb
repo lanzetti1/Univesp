{
  "nbformat": 4,
  "nbformat_minor": 0,
  "metadata": {
    "colab": {
      "name": "PES310.ipynb",
      "provenance": [],
      "toc_visible": true,
      "authorship_tag": "ABX9TyNa7ye7gYR+7wJe8gTtzeQc",
      "include_colab_link": true
    },
    "kernelspec": {
      "name": "python3",
      "display_name": "Python 3"
    },
    "language_info": {
      "name": "python"
    }
  },
  "cells": [
    {
      "cell_type": "markdown",
      "metadata": {
        "id": "view-in-github",
        "colab_type": "text"
      },
      "source": [
        "<a href=\"https://colab.research.google.com/github/lanzetti1/Univesp/blob/main/PES310.ipynb\" target=\"_parent\"><img src=\"https://colab.research.google.com/assets/colab-badge.svg\" alt=\"Open In Colab\"/></a>"
      ]
    },
    {
      "cell_type": "code",
      "execution_count": 2,
      "metadata": {
        "colab": {
          "base_uri": "https://localhost:8080/"
        },
        "id": "9iF2cK_qN5Jp",
        "outputId": "a3804ba2-d56c-44b3-efc0-082cea4f40d5"
      },
      "outputs": [
        {
          "output_type": "stream",
          "name": "stderr",
          "text": [
            "/usr/local/lib/python3.7/dist-packages/statsmodels/tools/_testing.py:19: FutureWarning: pandas.util.testing is deprecated. Use the functions in the public API at pandas.testing instead.\n",
            "  import pandas.util.testing as tm\n"
          ]
        },
        {
          "output_type": "stream",
          "name": "stdout",
          "text": [
            "                            OLS Regression Results                            \n",
            "==============================================================================\n",
            "Dep. Variable:                      y   R-squared:                       0.937\n",
            "Model:                            OLS   Adj. R-squared:                  0.935\n",
            "Method:                 Least Squares   F-statistic:                     418.3\n",
            "Date:                Sun, 27 Mar 2022   Prob (F-statistic):           2.25e-18\n",
            "Time:                        21:12:08   Log-Likelihood:                -6.2045\n",
            "No. Observations:                  30   AIC:                             16.41\n",
            "Df Residuals:                      28   BIC:                             19.21\n",
            "Df Model:                           1                                         \n",
            "Covariance Type:            nonrobust                                         \n",
            "==============================================================================\n",
            "                 coef    std err          t      P>|t|      [0.025      0.975]\n",
            "------------------------------------------------------------------------------\n",
            "const         -0.3977      0.168     -2.367      0.025      -0.742      -0.054\n",
            "x1             3.0800      0.151     20.453      0.000       2.772       3.388\n",
            "==============================================================================\n",
            "Omnibus:                        0.653   Durbin-Watson:                   2.448\n",
            "Prob(Omnibus):                  0.721   Jarque-Bera (JB):                0.719\n",
            "Skew:                           0.180   Prob(JB):                        0.698\n",
            "Kurtosis:                       2.333   Cond. No.                         5.84\n",
            "==============================================================================\n",
            "\n",
            "Warnings:\n",
            "[1] Standard Errors assume that the covariance matrix of the errors is correctly specified.\n"
          ]
        }
      ],
      "source": [
        "    #Dados x\n",
        "    x = [0.40, 0.42, 0.48, 0.51, 0.57, 0.60, 0.70, 0.75, 0.75, 0.78, 0.84, \n",
        "    0.95, 0.99, 1.03, 1.12, 1.15, 1.20, 1.25, 1.25, 1.28, 1.30, 1.34, 1.37, \n",
        "    1.40, 1.43, 1.46, 1.49, 1.55, 1.58, 1.60]\n",
        "    #Dados y\n",
        "    y= [1.02, 1.21, 0.88, 0.98, 1.52, 1.83, 1.50, 1.80, 1.74, 1.63, 2.00, \n",
        "    2.80, 2.48, 2.47, 3.05, 3.18, 3.76, 3.68, 3.82, 3.21, 4.27, 3.12, 3.99,\n",
        "    3.75, 4.10, 4.18, 3.77, 4.34, 4.21, 4.92]    \n",
        "\n",
        "    import pandas as pd\n",
        "    import seaborn as sns\n",
        "    import statsmodels.api as sm\n",
        "    x = sm.add_constant(x)\n",
        "    modelo = sm.OLS(y, x).fit() #\n",
        "    print(modelo.summary())"
      ]
    },
    {
      "cell_type": "code",
      "source": [
        "x = [7.01, 7.11, 7.12, 7.24, 7.94, 7.94, 8.04, 8.05, 8.07, 8.90, 8.94, 8.95, 8.97, 8.98, 9.85, 9.86, 9.86, 9.87]\n",
        "y= [60, 67 , 66, 52, 50, 45, 52, 48, 40, 23, 20, 40, 31, 26, 9, 22, 13, 7]"
      ],
      "metadata": {
        "id": "0s4XiNJrPpqI"
      },
      "execution_count": 4,
      "outputs": []
    },
    {
      "cell_type": "code",
      "source": [
        "    import pandas as pd\n",
        "    import seaborn as sns\n",
        "    import statsmodels.api as sm\n",
        "    x = sm.add_constant(x)\n",
        "    modelo = sm.OLS(y, x).fit() #\n",
        "    print(modelo.summary())"
      ],
      "metadata": {
        "colab": {
          "base_uri": "https://localhost:8080/"
        },
        "id": "6CgpfaTmP7Gt",
        "outputId": "c4c277af-6aed-47ae-b792-5c371e3e460d"
      },
      "execution_count": 5,
      "outputs": [
        {
          "output_type": "stream",
          "name": "stdout",
          "text": [
            "                            OLS Regression Results                            \n",
            "==============================================================================\n",
            "Dep. Variable:                      y   R-squared:                       0.903\n",
            "Model:                            OLS   Adj. R-squared:                  0.897\n",
            "Method:                 Least Squares   F-statistic:                     149.7\n",
            "Date:                Sun, 27 Mar 2022   Prob (F-statistic):           1.55e-09\n",
            "Time:                        21:19:53   Log-Likelihood:                -57.105\n",
            "No. Observations:                  18   AIC:                             118.2\n",
            "Df Residuals:                      16   BIC:                             120.0\n",
            "Df Model:                           1                                         \n",
            "Covariance Type:            nonrobust                                         \n",
            "==============================================================================\n",
            "                 coef    std err          t      P>|t|      [0.025      0.975]\n",
            "------------------------------------------------------------------------------\n",
            "const        190.2683     12.587     15.116      0.000     163.585     216.952\n",
            "x1           -18.0342      1.474    -12.235      0.000     -21.159     -14.910\n",
            "==============================================================================\n",
            "Omnibus:                        1.191   Durbin-Watson:                   2.184\n",
            "Prob(Omnibus):                  0.551   Jarque-Bera (JB):                0.908\n",
            "Skew:                           0.268   Prob(JB):                        0.635\n",
            "Kurtosis:                       2.040   Cond. No.                         75.5\n",
            "==============================================================================\n",
            "\n",
            "Warnings:\n",
            "[1] Standard Errors assume that the covariance matrix of the errors is correctly specified.\n"
          ]
        },
        {
          "output_type": "stream",
          "name": "stderr",
          "text": [
            "/usr/local/lib/python3.7/dist-packages/scipy/stats/stats.py:1535: UserWarning: kurtosistest only valid for n>=20 ... continuing anyway, n=18\n",
            "  \"anyway, n=%i\" % int(n))\n"
          ]
        }
      ]
    },
    {
      "cell_type": "code",
      "source": [
        "x = [7.01, 7.11, 7.12, 7.24, 7.94, 7.94, 8.04, 8.05, 8.07, 8.90, 8.94, 8.95, 8.97, 8.98, 9.85, 9.86, 9.86, 9.87]\n",
        "y= [60, 67 , 66, 52, 50, 45, 52, 48, 40, 23, 20, 40, 31, 26, 9, 22, 13, 7]\n",
        "\n",
        "import pandas as pd\n",
        "import seaborn as sns\n",
        "import statsmodels.api as sm\n",
        "x = sm.add_constant(x)\n",
        "modelo = sm.OLS(y, x).fit() #\n",
        "print(modelo.summary())"
      ],
      "metadata": {
        "colab": {
          "base_uri": "https://localhost:8080/"
        },
        "id": "DquSfCGtRIFs",
        "outputId": "71c471f1-66d3-4226-98ac-e95e43d29760"
      },
      "execution_count": 8,
      "outputs": [
        {
          "output_type": "stream",
          "name": "stdout",
          "text": [
            "                            OLS Regression Results                            \n",
            "==============================================================================\n",
            "Dep. Variable:                      y   R-squared:                       0.903\n",
            "Model:                            OLS   Adj. R-squared:                  0.897\n",
            "Method:                 Least Squares   F-statistic:                     149.7\n",
            "Date:                Sun, 27 Mar 2022   Prob (F-statistic):           1.55e-09\n",
            "Time:                        21:26:53   Log-Likelihood:                -57.105\n",
            "No. Observations:                  18   AIC:                             118.2\n",
            "Df Residuals:                      16   BIC:                             120.0\n",
            "Df Model:                           1                                         \n",
            "Covariance Type:            nonrobust                                         \n",
            "==============================================================================\n",
            "                 coef    std err          t      P>|t|      [0.025      0.975]\n",
            "------------------------------------------------------------------------------\n",
            "const        190.2683     12.587     15.116      0.000     163.585     216.952\n",
            "x1           -18.0342      1.474    -12.235      0.000     -21.159     -14.910\n",
            "==============================================================================\n",
            "Omnibus:                        1.191   Durbin-Watson:                   2.184\n",
            "Prob(Omnibus):                  0.551   Jarque-Bera (JB):                0.908\n",
            "Skew:                           0.268   Prob(JB):                        0.635\n",
            "Kurtosis:                       2.040   Cond. No.                         75.5\n",
            "==============================================================================\n",
            "\n",
            "Warnings:\n",
            "[1] Standard Errors assume that the covariance matrix of the errors is correctly specified.\n"
          ]
        },
        {
          "output_type": "stream",
          "name": "stderr",
          "text": [
            "/usr/local/lib/python3.7/dist-packages/scipy/stats/stats.py:1535: UserWarning: kurtosistest only valid for n>=20 ... continuing anyway, n=18\n",
            "  \"anyway, n=%i\" % int(n))\n"
          ]
        }
      ]
    },
    {
      "cell_type": "code",
      "source": [
        "#Dados x\n",
        "x = [0.40, 0.42, 0.48, 0.51, 0.57, 0.60, 0.70, 0.75, 0.75, 0.78, 0.84, 0.95, 0.99, 1.03, 1.12, 1.15, 1.20, 1.25, 1.25, 1.28, 1.30, 1.34, 1.37, \n",
        "1.40, 1.43, 1.46, 1.49, 1.55, 1.58, 1.60]\n",
        "#Dados y\n",
        "y= [1.02, 1.21, 0.88, 0.98, 1.52, 1.83, 1.50, 1.80, 1.74, 1.63, 2.00, 2.80, 2.48, 2.47, 3.05, 3.18, 3.76, 3.68, 3.82, 3.21, 4.27, 3.12, 3.99,\n",
        "3.75, 4.10, 4.18, 3.77, 4.34, 4.21, 4.92]\n",
        "\n",
        "import pandas as pd\n",
        "import seaborn as sns\n",
        "import statsmodels.api as sm\n",
        "x = sm.add_constant(x)\n",
        "modelo = sm.OLS(y, x).fit() #\n",
        "print(modelo.summary())"
      ],
      "metadata": {
        "colab": {
          "base_uri": "https://localhost:8080/"
        },
        "id": "bykoUEahTTW6",
        "outputId": "90cd68df-729b-4b8c-a2c6-16b5ec2e6c46"
      },
      "execution_count": 9,
      "outputs": [
        {
          "output_type": "stream",
          "name": "stdout",
          "text": [
            "                            OLS Regression Results                            \n",
            "==============================================================================\n",
            "Dep. Variable:                      y   R-squared:                       0.937\n",
            "Model:                            OLS   Adj. R-squared:                  0.935\n",
            "Method:                 Least Squares   F-statistic:                     418.3\n",
            "Date:                Sun, 27 Mar 2022   Prob (F-statistic):           2.25e-18\n",
            "Time:                        21:37:14   Log-Likelihood:                -6.2045\n",
            "No. Observations:                  30   AIC:                             16.41\n",
            "Df Residuals:                      28   BIC:                             19.21\n",
            "Df Model:                           1                                         \n",
            "Covariance Type:            nonrobust                                         \n",
            "==============================================================================\n",
            "                 coef    std err          t      P>|t|      [0.025      0.975]\n",
            "------------------------------------------------------------------------------\n",
            "const         -0.3977      0.168     -2.367      0.025      -0.742      -0.054\n",
            "x1             3.0800      0.151     20.453      0.000       2.772       3.388\n",
            "==============================================================================\n",
            "Omnibus:                        0.653   Durbin-Watson:                   2.448\n",
            "Prob(Omnibus):                  0.721   Jarque-Bera (JB):                0.719\n",
            "Skew:                           0.180   Prob(JB):                        0.698\n",
            "Kurtosis:                       2.333   Cond. No.                         5.84\n",
            "==============================================================================\n",
            "\n",
            "Warnings:\n",
            "[1] Standard Errors assume that the covariance matrix of the errors is correctly specified.\n"
          ]
        }
      ]
    }
  ]
}