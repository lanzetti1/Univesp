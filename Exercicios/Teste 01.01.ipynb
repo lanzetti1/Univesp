{
 "cells": [
  {
   "cell_type": "markdown",
   "metadata": {},
   "source": [
    "O presente exercício é uma reprodução de uma tarefa do curso de ciência de dados da univesp"
   ]
  },
  {
   "cell_type": "markdown",
   "metadata": {},
   "source": [
    "# COM530 - Visão Computacional\n",
    "\n",
    "## Semana 5 - Segmentação\n",
    "## Videoaula 15 - Prática de Segmentação Semântica com CNN\n",
    "\n",
    "- Importando os pacotes e imagens\n",
    "- Analisando as imagens\n",
    "- Preparando os dados\n",
    "- Construindo uma rede convolucional Unet\n",
    "- Treinando a rede\n",
    "- Avaliando os resultados\n",
    "\n",
    "Observações: \n",
    "- Ativar a GPU (Menu [Runtime], opção [Change runtime type])\n",
    "- Sem GPU, a execução deste caderno pode levar mais de 40 minutos.\n"
   ]
  },
  {
   "cell_type": "markdown",
   "metadata": {},
   "source": [
    "#Importar os pacotes e carregar os dados.\n",
    "\n",
    "O conjunto de dados utilizado nesta aula foi construído a partir de imagens de Microscopia Eletrônica, as quais estão disponíveis em: https://www.epfl.ch/labs/cvlab/data/data-em/\n",
    "\n",
    "Essas imagens estão em alta-resolução e foram segmentadas em mitocôndrias e sinapses.\n",
    "\n",
    "A partir dessas imagens, foram geradas \"sub-imagens\" 256x256 a partir das regiões das imagens originais. Essas imagens 256x256 são as utilizadas nesta aula."
   ]
  },
  {
   "cell_type": "code",
   "execution_count": null,
   "metadata": {
    "vscode": {
     "languageId": "plaintext"
    }
   },
   "outputs": [],
   "source": []
  },
  {
   "cell_type": "code",
   "execution_count": null,
   "metadata": {},
   "outputs": [],
   "source": [
    "import os\n",
    "import zipfile\n",
    "import tensorflow as tf\n",
    "from tensorflow.keras.utils import normalize\n",
    "import cv2\n",
    "from PIL import Image\n",
    "import numpy as np\n",
    "from matplotlib import pyplot as plt\n",
    "from sklearn.preprocessing import MinMaxScaler\n",
    "from keras.optimizers import Adam\n",
    "import glob"
   ]
  },
  {
   "cell_type": "markdown",
   "metadata": {},
   "source": [
    "#Carregando as imagens\n",
    "\n",
    "O conjunto de dados utilizado nesta aula foi construído a partir de imagens de Microscopia Eletrônica, as quais estão disponíveis em: https://www.epfl.ch/labs/cvlab/data/data-em/\n",
    "\n",
    "Essas imagens estão em alta-resolução e foram segmentadas em mitocôndrias e sinapses.\n",
    "\n",
    "A partir dessas imagens, foram geradas \"sub-imagens\" 256x256 a partir das regiões das imagens originais. Essas imagens 256x256 são as utilizadas nesta aula."
   ]
  },
  {
   "cell_type": "code",
   "execution_count": null,
   "metadata": {},
   "outputs": [],
   "source": [
    "!wget https://www.dropbox.com/s/rntsian2o49lzc5/256.zip?dl=1 -O 256.zip\n",
    "!mkdir -p tmp/mitochondria/\n",
    "\n",
    "local_zip = '256.zip'\n",
    "zip_ref = zipfile.ZipFile(local_zip, 'r')\n",
    "zip_ref.extractall('tmp/mitochondria/')\n",
    "zip_ref.close()"
   ]
  },
  {
   "cell_type": "code",
   "execution_count": null,
   "metadata": {},
   "outputs": [],
   "source": [
    "#!wget https://www.epfl.ch/labs/cvlab/data/data-em/\n",
    "\n",
    "!wget https://documents.epfl.ch/groups/c/cv/cvlab-unit/www/data/%20ElectronMicroscopy_Hippocampus/volumedata.tif"
   ]
  }
 ],
 "metadata": {
  "language_info": {
   "name": "python"
  }
 },
 "nbformat": 4,
 "nbformat_minor": 2
}
