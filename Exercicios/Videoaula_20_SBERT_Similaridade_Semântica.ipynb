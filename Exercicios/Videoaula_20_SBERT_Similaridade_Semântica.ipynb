{
  "cells": [
    {
      "cell_type": "markdown",
      "metadata": {
        "id": "view-in-github",
        "colab_type": "text"
      },
      "source": [
        "<a href=\"https://colab.research.google.com/github/lanzetti1/Univesp/blob/main/Videoaula_20_SBERT_Similaridade_Sem%C3%A2ntica.ipynb\" target=\"_parent\"><img src=\"https://colab.research.google.com/assets/colab-badge.svg\" alt=\"Open In Colab\"/></a>"
      ]
    },
    {
      "cell_type": "markdown",
      "source": [
        "#Instalando dependências"
      ],
      "metadata": {
        "id": "hsFIZIZ5Ch3b"
      }
    },
    {
      "cell_type": "code",
      "source": [
        "!pip install transformers\n",
        "!pip install sentence-transformers"
      ],
      "metadata": {
        "id": "NA3MFRXnCeob"
      },
      "execution_count": null,
      "outputs": []
    },
    {
      "cell_type": "markdown",
      "metadata": {
        "id": "4-Mq3nA5CU19"
      },
      "source": [
        "#Importando as bibliotecas"
      ]
    },
    {
      "cell_type": "code",
      "execution_count": null,
      "metadata": {
        "id": "I6e5Vk_1CU1-"
      },
      "outputs": [],
      "source": [
        "from sentence_transformers import SentenceTransformer, util\n",
        "import numpy as np"
      ]
    },
    {
      "cell_type": "markdown",
      "metadata": {
        "id": "21oMa5H8CU1_"
      },
      "source": [
        "#Selecionando e inicializando o modelo"
      ]
    },
    {
      "cell_type": "code",
      "execution_count": null,
      "metadata": {
        "id": "z4JBsyuqCU2A"
      },
      "outputs": [],
      "source": [
        "# List of models optimized for semantic textual similarity can be found at:\n",
        "# https://docs.google.com/spreadsheets/d/14QplCdTCDwEmTqrn1LH4yrbKvdogK4oQvYO1K1aPR5M/edit#gid=0\n",
        "model = SentenceTransformer('stsb-roberta-large')"
      ]
    },
    {
      "cell_type": "markdown",
      "metadata": {
        "id": "2oFSxeneCU2A"
      },
      "source": [
        "#Calculando a similaridade semântica entre duas sentenças"
      ]
    },
    {
      "cell_type": "code",
      "execution_count": null,
      "metadata": {
        "colab": {
          "base_uri": "https://localhost:8080/"
        },
        "id": "ueS6tC8kCU2B",
        "outputId": "fea0dd71-5f89-4866-d4a9-199e804ff8eb"
      },
      "outputs": [
        {
          "output_type": "stream",
          "name": "stdout",
          "text": [
            "Sentença 1: I gosto de Python porque possso construir aplicações de IA\n",
            "Sentença 2: I gosto de Python porque posso trabalhar com anáise de dados\n",
            "Score de similaridade: 0.7462074756622314\n"
          ]
        }
      ],
      "source": [
        "#sentence1 = \"I like Python because I can build AI applications\"\n",
        "#sentence2 = \"I like Python because I can do data analytics\"\n",
        "\n",
        "sentence1 = \"I gosto de Python porque possso construir aplicações de IA\"\n",
        "sentence2 = \"I gosto de Python porque posso analisar de dados\"\n",
        "\n",
        "# encode sentences to get their embeddings\n",
        "embedding1 = model.encode(sentence1, convert_to_tensor=True)\n",
        "embedding2 = model.encode(sentence2, convert_to_tensor=True)\n",
        "\n",
        "# compute similarity scores of two embeddings\n",
        "cosine_scores = util.pytorch_cos_sim(embedding1, embedding2)\n",
        "\n",
        "print(\"Sentença 1:\", sentence1)\n",
        "print(\"Sentença 2:\", sentence2)\n",
        "print(\"Score de similaridade:\", cosine_scores.item())"
      ]
    },
    {
      "cell_type": "markdown",
      "metadata": {
        "id": "uRS6A9Q5CU2B"
      },
      "source": [
        "#Calculando a similaridade semântica entre duas listas de sentenças"
      ]
    },
    {
      "cell_type": "code",
      "execution_count": null,
      "metadata": {
        "colab": {
          "base_uri": "https://localhost:8080/"
        },
        "id": "Ph8xHfFvCU2B",
        "outputId": "cb60c14c-0cb1-4d32-d4b6-9ffe97f1a77d"
      },
      "outputs": [
        {
          "output_type": "stream",
          "name": "stdout",
          "text": [
            "Sentença 1: I gosto de Python porque possso construir aplicações de IA\n",
            "Sentença 2: I gosto de Python porque posso analisar de dados\n",
            "Score de similaridade: 0.7559820413589478\n",
            "\n",
            "Sentença 1: I gosto de Python porque possso construir aplicações de IA\n",
            "Sentença 2: O gato caminha na calçada\n",
            "Score de similaridade: 0.2877211272716522\n",
            "\n",
            "Sentença 1: O gato senta no chão\n",
            "Sentença 2: I gosto de Python porque posso analisar de dados\n",
            "Score de similaridade: 0.2499450445175171\n",
            "\n",
            "Sentença 1: O gato senta no chão\n",
            "Sentença 2: O gato caminha na calçada\n",
            "Score de similaridade: 0.618421196937561\n",
            "\n"
          ]
        }
      ],
      "source": [
        "# sentences1 = [\"I like Python because I can build AI applications\",\n",
        "#               \"The cat sits on the ground\"]\n",
        "# sentences2 = [\"I like Python because I can do data analytics\",\n",
        "#               \"The cat walks on the sidewalk\"]\n",
        "\n",
        "sentences1 = [\"I gosto de Python porque possso construir aplicações de IA\",\n",
        "              \"O gato senta no chão\"]\n",
        "sentences2 = [\"I gosto de Python porque posso analisar de dados\",\n",
        "              \"O gato caminha na calçada\"]\n",
        "\n",
        "# encode list of sentences to get their embeddings\n",
        "embedding1 = model.encode(sentences1, convert_to_tensor=True)\n",
        "embedding2 = model.encode(sentences2, convert_to_tensor=True)\n",
        "\n",
        "# compute similarity scores of two embeddings\n",
        "cosine_scores = util.pytorch_cos_sim(embedding1, embedding2)\n",
        "\n",
        "for i in range(len(sentences1)):\n",
        "    for j in range(len(sentences2)):\n",
        "        print(\"Sentença 1:\", sentences1[i])\n",
        "        print(\"Sentença 2:\", sentences2[j])\n",
        "        print(\"Score de similaridade:\", cosine_scores[i][j].item())\n",
        "        print()"
      ]
    },
    {
      "cell_type": "markdown",
      "metadata": {
        "id": "lihGXM_ICU2C"
      },
      "source": [
        "#Dada uma sentença, recuperar as $k$ sentenças mais similares a ela em um *corpus*"
      ]
    },
    {
      "cell_type": "code",
      "execution_count": null,
      "metadata": {
        "id": "JCuhd8QoCU2C"
      },
      "outputs": [],
      "source": [
        "corpus = [\"I like Python because I can build AI applications\",\n",
        "          \"I like Python because I can do data analytics\",\n",
        "          \"The cat sits on the ground\",\n",
        "         \"The cat walks on the sidewalk\"]\n",
        "\n",
        "# encode corpus to get corpus embeddings\n",
        "corpus_embeddings = model.encode(corpus, convert_to_tensor=True)"
      ]
    },
    {
      "cell_type": "code",
      "execution_count": null,
      "metadata": {
        "id": "oDa_B1uPCU2C"
      },
      "outputs": [],
      "source": [
        "sentence = \"I like Javascript because I can build web applications\"\n",
        "\n",
        "# encode sentence to get sentence embeddings\n",
        "sentence_embedding = model.encode(sentence, convert_to_tensor=True)"
      ]
    },
    {
      "cell_type": "code",
      "execution_count": null,
      "metadata": {
        "colab": {
          "base_uri": "https://localhost:8080/"
        },
        "id": "p16U8bd_CU2C",
        "outputId": "9158dd8b-078d-4b4b-c713-84f70fe007ea"
      },
      "outputs": [
        {
          "output_type": "stream",
          "name": "stdout",
          "text": [
            "Sentença: I like Javascript because I can build web applications \n",
            "\n",
            "Top 2 sentenças mais próximas no corpus:\n",
            "I like Python because I can build AI applications (Score: 0.6696)\n",
            "I like Python because I can do data analytics (Score: 0.5455)\n"
          ]
        }
      ],
      "source": [
        "# top_k results to return\n",
        "top_k=2\n",
        "\n",
        "# compute similarity scores of the sentence with the corpus\n",
        "cos_scores = util.pytorch_cos_sim(sentence_embedding, corpus_embeddings)[0]\n",
        "\n",
        "# Sort the results in decreasing order and get the first top_k\n",
        "top_results = np.argpartition(-cos_scores, range(top_k))[0:top_k]\n",
        "\n",
        "print(\"Sentença:\", sentence, \"\\n\")\n",
        "print(\"Top\", top_k, \"sentenças mais próximas no corpus:\")\n",
        "for idx in top_results[0:top_k]:\n",
        "    print(corpus[idx], \"(Score: %.4f)\" % (cos_scores[idx]))"
      ]
    },
    {
      "cell_type": "markdown",
      "source": [
        "#Agradecimentos\n",
        "\n",
        "Aula baseada no artigo a seguir.\n",
        "\n",
        "https://towardsdatascience.com/semantic-similarity-using-transformers-8f3cb5bf66d6"
      ],
      "metadata": {
        "id": "r2mIc97aCk81"
      }
    }
  ],
  "metadata": {
    "kernelspec": {
      "display_name": "Python 3",
      "language": "python",
      "name": "python3"
    },
    "language_info": {
      "codemirror_mode": {
        "name": "ipython",
        "version": 3
      },
      "file_extension": ".py",
      "mimetype": "text/x-python",
      "name": "python",
      "nbconvert_exporter": "python",
      "pygments_lexer": "ipython3",
      "version": "3.6.6"
    },
    "colab": {
      "provenance": [],
      "include_colab_link": true
    }
  },
  "nbformat": 4,
  "nbformat_minor": 0
}